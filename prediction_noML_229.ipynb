{
 "cells": [
  {
   "cell_type": "code",
   "execution_count": 1,
   "metadata": {},
   "outputs": [],
   "source": [
    "# import packages\n",
    "import pandas as pd\n",
    "import numpy as np\n",
    "from sklearn.ensemble import RandomForestRegressor\n",
    "from sklearn.metrics import mean_absolute_error,r2_score\n",
    "import xgboost as xgb\n",
    "from sklearn.model_selection import GridSearchCV\n",
    "import math"
   ]
  },
  {
   "cell_type": "markdown",
   "metadata": {},
   "source": [
    "Adapting datasets to be interpreted"
   ]
  },
  {
   "cell_type": "code",
   "execution_count": 2,
   "metadata": {},
   "outputs": [],
   "source": [
    "X_sample = pd.read_csv(\"data/ais_train.csv\", delimiter='|')\n",
    "X_sample.to_csv('data/ais_train_modified.csv', index=False)\n",
    "extra_vessels = pd.read_csv(\"data/vessels.csv\", on_bad_lines='skip', delimiter='|')\n",
    "extra_vessels.to_csv('data/vessels_modified.csv', index=False)\n",
    "extra_ports = pd.read_csv(\"data/ports.csv\", on_bad_lines='skip', delimiter='|')\n",
    "extra_ports.to_csv('data/ports_modified.csv', index=False)\n",
    "extra_schedules = pd.read_csv(\"data/schedules_to_may_2024.csv\", on_bad_lines='skip', delimiter='|')\n",
    "extra_schedules.to_csv('data/schedules_to_may_2024_modified.csv', index=False)"
   ]
  },
  {
   "cell_type": "code",
   "execution_count": 3,
   "metadata": {},
   "outputs": [],
   "source": [
    "X_evaluation = pd.read_csv(\"data/ais_test.csv\",)\n",
    "extra_ports = pd.read_csv(\"data/ports_modified.csv\")\n",
    "extra_vessels = pd.read_csv(\"data/vessels_modified.csv\")\n",
    "extra_schedules = pd.read_csv(\"data/schedules_to_may_2024_modified.csv\")\n",
    "X_original = pd.read_csv(\"data/ais_train_modified.csv\")"
   ]
  },
  {
   "cell_type": "markdown",
   "metadata": {},
   "source": [
    "Changing current data into immediate anterior data for the file"
   ]
  },
  {
   "cell_type": "code",
   "execution_count": 4,
   "metadata": {},
   "outputs": [],
   "source": [
    "def past_course(original):\n",
    "    original=original.reset_index()\n",
    "\n",
    "    original['prev_lat'] = original['latitude'].shift(1).fillna(original['latitude'].iloc[0])\n",
    "    original['prev_lon'] = original['longitude'].shift(1).fillna(original['longitude'].iloc[0])\n",
    "    original['time_2'] = original['time'].shift(1).fillna(original['time'].iloc[0])\n",
    "    original['cog'] = original['cog'].shift(1)\n",
    "    original['sog'] = original['sog'].shift(1)\n",
    "    original['rot'] = original['rot'].shift(1)\n",
    "    original['heading'] = original['heading'].shift(1)\n",
    "    original['navstat'] = original['navstat'].shift(1)\n",
    "    original.loc[0,['cog','sog','rot','heading','navstat']]=[0,0,0,0,0]\n",
    "\n",
    "    return original\n",
    "\n",
    "def adapting_training_data(original):\n",
    "    unique = original['vesselId'].unique()\n",
    "    new = original.copy()\n",
    "    new['time'] = pd.to_datetime(new['time'])\n",
    "    new['prev_lat']=original['latitude']\n",
    "    new['prev_lon']=original['longitude']\n",
    "    new['time_2'] = new['time']\n",
    "    new = new.reset_index()\n",
    "    final = pd.DataFrame(columns=new.columns)\n",
    "    for c in unique:\n",
    "        filtered = new[new['vesselId'] == c].copy()\n",
    "        new_filtered = past_course(filtered)\n",
    "        final = pd.concat([final, new_filtered], ignore_index=True)\n",
    "    final = final.sort_values(by='index')\n",
    "    final = final.drop(['index'],axis=1)\n",
    "    final = final.reset_index(drop=True)\n",
    "    final = final.drop(['level_0'],axis=1)\n",
    "    return(final)\n",
    "\n",
    "def adapting_test_data (evaluation,training):\n",
    "    evalu=evaluation.copy()\n",
    "    evalu['time'] = pd.to_datetime(evalu['time'])\n",
    "    evalu['time_2'] = evalu['time']\n",
    "    evalu['cog'] = 0.1\n",
    "    evalu['sog'] = 0.1\n",
    "    evalu['heading'] = 0.1\n",
    "    evalu['navstat'] = 0.1\n",
    "    evalu['etaRaw'] = evalu['time']\n",
    "    evalu['latitude'] = 0.11111111\n",
    "    evalu['longitude'] = 0.11111111\n",
    "    evalu['portId'] ='61d371c43aeaecc07011a37f'\n",
    "    train=training.copy()\n",
    "    train['time'] = pd.to_datetime(train['time'])\n",
    "    train['time_2'] = train['time']\n",
    "    evalu = evalu.drop(['ID','scaling_factor'],axis=1)\n",
    "    final = pd.concat([train, evalu], ignore_index=True)\n",
    "    x =adapting_training_data(final)\n",
    "    evalu = x.iloc[len(train):]\n",
    "    unique = evalu['vesselId'].unique()\n",
    "    final = final.iloc[0:0]\n",
    "    for c in unique:\n",
    "        filtered = evalu[evalu['vesselId'] == c].copy()\n",
    "        filtered = filtered.reset_index()\n",
    "        filtered[['time_2','cog','sog','rot','heading','navstat','etaRaw','prev_lat','prev_lon']] = filtered.iloc[0][['time_2','cog','sog','rot','heading','navstat','etaRaw','prev_lat','prev_lon']]\n",
    "        final = pd.concat([final,filtered], ignore_index=True)\n",
    "    final['time_dif'] = (final['time']-final['time_2']).dt.total_seconds()/3600\n",
    "    final = final.sort_values(by='index')\n",
    "    final = final.drop(['index'],axis=1)\n",
    "    final = final.reset_index(drop=True)\n",
    "    return final"
   ]
  },
  {
   "cell_type": "markdown",
   "metadata": {},
   "source": [
    "Function to extract new position based on last known location (straight line)"
   ]
  },
  {
   "cell_type": "code",
   "execution_count": 58,
   "metadata": {},
   "outputs": [],
   "source": [
    "def travel_predict(df):\n",
    "    lat = df['prev_lat'] * (np.pi / 180)\n",
    "    lon = df['prev_lon'] * (np.pi / 180)\n",
    "    speed = df['sog'] * 0.514444 * 3600\n",
    "    dist = (speed * df['time_dif']) / 1000\n",
    "    direction = df['cog'] * (np.pi / 180)\n",
    "    R = 6371\n",
    "\n",
    "    latf = np.arcsin(np.sin(lat) * np.cos(dist / R) + np.cos(lat) * np.sin(dist / R) * np.cos(direction))\n",
    "    lonf = lon + np.arctan((np.sin(direction) * np.sin(dist / R) * np.cos(lat)) /(np.cos(dist / R) - (np.sin(lat) * np.sin(latf))))\n",
    "\n",
    "    latf = latf * (180 / np.pi)\n",
    "    lonf = lonf * (180 / np.pi)\n",
    "\n",
    "    result = pd.DataFrame({'longitude_predicted': lonf, 'latitude_predicted': latf})\n",
    "\n",
    "    return result"
   ]
  },
  {
   "cell_type": "markdown",
   "metadata": {},
   "source": [
    "New position calculation and dataframe definition"
   ]
  },
  {
   "cell_type": "code",
   "execution_count": null,
   "metadata": {},
   "outputs": [],
   "source": [
    "t = adapting_test_data(X_evaluation,X_original)\n",
    "result = travel_predict(t)\n",
    "result=result.reset_index()\n",
    "result.rename(columns={'index': 'ID'}, inplace=True)\n",
    "result.to_csv('data/first_try.csv', index=False)"
   ]
  }
 ],
 "metadata": {
  "kernelspec": {
   "display_name": "task1",
   "language": "python",
   "name": "python3"
  },
  "language_info": {
   "codemirror_mode": {
    "name": "ipython",
    "version": 3
   },
   "file_extension": ".py",
   "mimetype": "text/x-python",
   "name": "python",
   "nbconvert_exporter": "python",
   "pygments_lexer": "ipython3",
   "version": "3.12.4"
  }
 },
 "nbformat": 4,
 "nbformat_minor": 2
}
